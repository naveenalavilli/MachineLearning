{
 "cells": [
  {
   "cell_type": "code",
   "execution_count": 12,
   "metadata": {},
   "outputs": [],
   "source": [
    "import numpy as np"
   ]
  },
  {
   "cell_type": "code",
   "execution_count": 13,
   "metadata": {},
   "outputs": [],
   "source": [
    "import matplotlib.pyplot as plt"
   ]
  },
  {
   "cell_type": "code",
   "execution_count": 14,
   "metadata": {},
   "outputs": [],
   "source": [
    "import h5py"
   ]
  },
  {
   "cell_type": "code",
   "execution_count": 15,
   "metadata": {},
   "outputs": [
    {
     "name": "stdout",
     "output_type": "stream",
     "text": [
      "File format of train_dataset: <HDF5 file \"train_catvnoncat.h5\" (mode r)>\n",
      "File format of test_dataset: <HDF5 file \"test_catvnoncat.h5\" (mode r)>\n"
     ]
    }
   ],
   "source": [
    "train_dataset = h5py.File('/cxldata/datasets/project/cat-non-cat/train_catvnoncat.h5', \"r\")\n",
    "\n",
    "test_dataset = h5py.File('/cxldata/datasets/project/cat-non-cat/test_catvnoncat.h5', \"r\")\n",
    "\n",
    "print(\"File format of train_dataset:\",train_dataset)\n",
    "print(\"File format of test_dataset:\",test_dataset)"
   ]
  },
  {
   "cell_type": "code",
   "execution_count": 16,
   "metadata": {},
   "outputs": [],
   "source": [
    "train_set_x_orig = np.array(train_dataset[\"train_set_x\"][:]) # train set features\n",
    "train_set_y_orig = np.array(train_dataset[\"train_set_y\"][:]) # train set labels\n",
    "\n",
    "test_set_x_orig = np.array(test_dataset[\"test_set_x\"][:]) # test set features\n",
    "test_set_y_orig = np.array(test_dataset[\"test_set_y\"][:]) # test set labels"
   ]
  },
  {
   "cell_type": "code",
   "execution_count": 17,
   "metadata": {},
   "outputs": [
    {
     "name": "stdout",
     "output_type": "stream",
     "text": [
      "[1 2 3 4]\n"
     ]
    }
   ],
   "source": [
    "arr = np.arange(1,5)\n",
    "print(arr)"
   ]
  },
  {
   "cell_type": "code",
   "execution_count": 18,
   "metadata": {},
   "outputs": [],
   "source": [
    "arr = arr.reshape(1,2,2)"
   ]
  },
  {
   "cell_type": "code",
   "execution_count": 19,
   "metadata": {
    "scrolled": true
   },
   "outputs": [
    {
     "name": "stdout",
     "output_type": "stream",
     "text": [
      "[[1 2]\n",
      " [3 4]]\n",
      "(2, 2)\n"
     ]
    }
   ],
   "source": [
    "arr_squeezed = np.squeeze(arr)\n",
    "print(arr_squeezed)\n",
    "print(arr_squeezed.shape)"
   ]
  },
  {
   "cell_type": "code",
   "execution_count": 20,
   "metadata": {},
   "outputs": [
    {
     "name": "stdout",
     "output_type": "stream",
     "text": [
      "Validation data shape:  (25, 64, 64, 3)\n",
      "Test data shape:  (25, 64, 64, 3)\n"
     ]
    }
   ],
   "source": [
    "validation_x = test_set_x_orig[:25] \n",
    "validation_y = test_set_y_orig[:25]\n",
    "print(\"Validation data shape: \",validation_x.shape)\n",
    "\n",
    "test_set_x = test_set_x_orig[25:]\n",
    "test_set_y = test_set_y_orig[25:]\n",
    "print(\"Test data shape: \",test_set_x.shape)"
   ]
  },
  {
   "cell_type": "code",
   "execution_count": 21,
   "metadata": {},
   "outputs": [
    {
     "name": "stdout",
     "output_type": "stream",
     "text": [
      "Number of training examples: m_train = 209\n",
      "Number of validation examples: m_val = 25\n",
      "Number of testing examples: m_test = 25\n",
      "Height/Width of each image: num_px = 64\n",
      "Each image is of size: (64, 64, 3)\n"
     ]
    }
   ],
   "source": [
    "m_train = np.squeeze(train_set_y_orig.shape) \n",
    "m_val = np.squeeze(validation_y.shape)\n",
    "m_test = np.squeeze(test_set_y.shape)\n",
    "num_px = train_set_x_orig.shape[1]\n",
    "\n",
    "print (\"Number of training examples: m_train = \" + str(m_train))\n",
    "print (\"Number of validation examples: m_val = \" + str(m_val))\n",
    "print (\"Number of testing examples: m_test = \" + str(m_test))\n",
    "print (\"Height/Width of each image: num_px = \" + str(num_px))\n",
    "print (\"Each image is of size: (\" + str(num_px) + \", \" + str(num_px) + \", 3)\")"
   ]
  },
  {
   "cell_type": "code",
   "execution_count": 22,
   "metadata": {},
   "outputs": [
    {
     "name": "stdout",
     "output_type": "stream",
     "text": [
      "Classes are:  [b'non-cat' b'cat']\n",
      "Groundtruth stored as:  1\n",
      "cat\n"
     ]
    },
    {
     "data": {
      "text/plain": [
       "<matplotlib.image.AxesImage at 0x7f55529a1240>"
      ]
     },
     "execution_count": 22,
     "metadata": {},
     "output_type": "execute_result"
    },
    {
     "data": {
      "image/png": "[encoded data removed]",
      "text/plain": [
       "<Figure size 432x288 with 1 Axes>"
      ]
     },
     "metadata": {
      "needs_background": "light"
     },
     "output_type": "display_data"
    }
   ],
   "source": [
    "classes = np.array(test_dataset[\"list_classes\"][:])\n",
    "\n",
    "print(\"Classes are: \",classes)\n",
    "print(\"Groundtruth stored as: \",train_set_y_orig[2])\n",
    "print(classes[train_set_y_orig[2]].decode('utf-8'))\n",
    "\n",
    "plt.imshow(train_set_x_orig[2])"
   ]
  },
  {
   "cell_type": "code",
   "execution_count": 23,
   "metadata": {
    "scrolled": false
   },
   "outputs": [
    {
     "name": "stdout",
     "output_type": "stream",
     "text": [
      "train_set_x shape:  (209, 64, 64, 3)\n",
      "train_set_y shape:  (209,)\n"
     ]
    }
   ],
   "source": [
    "print(\"train_set_x shape: \", train_set_x_orig.shape)\n",
    "print(\"train_set_y shape: \", train_set_y_orig.shape)"
   ]
  },
  {
   "cell_type": "code",
   "execution_count": 24,
   "metadata": {
    "scrolled": true
   },
   "outputs": [
    {
     "name": "stdout",
     "output_type": "stream",
     "text": [
      "Validation data size:  (25, 64, 64, 3)\n",
      "Validation data size:  (25,)\n"
     ]
    }
   ],
   "source": [
    "print(\"Validation data size: \", validation_x.shape)\n",
    "print(\"Validation data size: \", validation_y.shape)"
   ]
  },
  {
   "cell_type": "code",
   "execution_count": 25,
   "metadata": {
    "scrolled": true
   },
   "outputs": [
    {
     "name": "stdout",
     "output_type": "stream",
     "text": [
      "test_set_x shape:  (25, 64, 64, 3)\n",
      "test_set_y shape:  (25,)\n"
     ]
    }
   ],
   "source": [
    "print(\"test_set_x shape: \", test_set_x.shape)\n",
    "print(\"test_set_y shape: \", test_set_y.shape)"
   ]
  },
  {
   "cell_type": "code",
   "execution_count": 26,
   "metadata": {
    "scrolled": true
   },
   "outputs": [
    {
     "name": "stdout",
     "output_type": "stream",
     "text": [
      "train_set_x_flatten shape:  (12288, 209)\n",
      "train_set_y shape:  (209,)\n",
      "validation_x_flatten shape:  (12288, 25)\n",
      "validation_y shape:  (25,)\n",
      "test_set_x_flatten shape:  (12288, 25)\n",
      "test_set_y shape:  (25,)\n"
     ]
    }
   ],
   "source": [
    "train_set_x_flatten = train_set_x_orig.reshape(train_set_x_orig.shape[0], -1).T\n",
    "validation_x_flatten = validation_x.reshape(validation_x.shape[0], -1).T\n",
    "test_set_x_flatten = test_set_x.reshape(test_set_x.shape[0], -1).T\n",
    "\n",
    "print (\"train_set_x_flatten shape: \", train_set_x_flatten.shape)\n",
    "print (\"train_set_y shape: \", train_set_y_orig.shape)\n",
    "\n",
    "print (\"validation_x_flatten shape: \", validation_x_flatten.shape)\n",
    "print (\"validation_y shape: \", validation_y.shape)\n",
    "\n",
    "print (\"test_set_x_flatten shape: \", test_set_x_flatten.shape)\n",
    "print (\"test_set_y shape: \", test_set_y.shape)"
   ]
  },
  {
   "cell_type": "code",
   "execution_count": 27,
   "metadata": {
    "scrolled": true
   },
   "outputs": [
    {
     "name": "stdout",
     "output_type": "stream",
     "text": [
      "Original Min value:  0\n",
      "Original Max value:  255\n"
     ]
    }
   ],
   "source": [
    "print(\"Original Min value: \",train_set_x_flatten.reshape(1,-1).min())\n",
    "print(\"Original Max value: \",train_set_x_flatten.reshape(1,-1).max())"
   ]
  },
  {
   "cell_type": "code",
   "execution_count": 28,
   "metadata": {},
   "outputs": [],
   "source": [
    "train_set_x = train_set_x_flatten / 255.\n",
    "validation_set_x = validation_x_flatten / 255.\n",
    "test_set_x = test_set_x / 255."
   ]
  },
  {
   "cell_type": "code",
   "execution_count": 29,
   "metadata": {},
   "outputs": [
    {
     "name": "stdout",
     "output_type": "stream",
     "text": [
      "Standardized Min value:  0.0\n",
      "Standardized Max value:  1.0\n"
     ]
    }
   ],
   "source": [
    "print(\"Standardized Min value: \",train_set_x.reshape(1,-1).min())\n",
    "print(\"Standardized Max value: \",train_set_x.reshape(1,-1).max())"
   ]
  },
  {
   "cell_type": "code",
   "execution_count": 30,
   "metadata": {},
   "outputs": [],
   "source": [
    "def sigmoid(z):\n",
    "    s = 1 / (1 + np.exp(-z))\n",
    "    return s"
   ]
  },
  {
   "cell_type": "code",
   "execution_count": 31,
   "metadata": {},
   "outputs": [],
   "source": [
    "z = np.linspace(-10,10,2000000)"
   ]
  },
  {
   "cell_type": "code",
   "execution_count": 32,
   "metadata": {},
   "outputs": [],
   "source": [
    "sigmoid_z = sigmoid(z)"
   ]
  },
  {
   "cell_type": "code",
   "execution_count": 33,
   "metadata": {},
   "outputs": [
    {
     "data": {
      "image/png": "[encoded data removed]",
      "text/plain": [
       "<Figure size 432x288 with 1 Axes>"
      ]
     },
     "metadata": {
      "needs_background": "light"
     },
     "output_type": "display_data"
    }
   ],
   "source": [
    "plt.plot(z, sigmoid_z) \n",
    "plt.xlabel(\"z\") \n",
    "plt.ylabel(\"Sigmoid(z)\") \n",
    "plt.show()"
   ]
  },
  {
   "cell_type": "code",
   "execution_count": 34,
   "metadata": {},
   "outputs": [
    {
     "name": "stdout",
     "output_type": "stream",
     "text": [
      "[[[0.71669382 0.42738963]\n",
      "  [0.16354174 0.89679935]]\n",
      "\n",
      " [[0.89688722 0.70756005]\n",
      "  [0.13019943 0.2996975 ]]]\n"
     ]
    }
   ],
   "source": [
    "random_3d_array = np.random.rand(2,2,2)\n",
    "print(random_3d_array)"
   ]
  },
  {
   "cell_type": "code",
   "execution_count": 35,
   "metadata": {},
   "outputs": [],
   "source": [
    "def initialize_weights(dim):\n",
    "    np.random.seed(0)\n",
    "    w = np.random.rand(dim, 1)\n",
    "    b = 0    \n",
    "    return w, b"
   ]
  },
  {
   "cell_type": "code",
   "execution_count": 36,
   "metadata": {},
   "outputs": [
    {
     "name": "stdout",
     "output_type": "stream",
     "text": [
      "Weights:  [[0.5488135 ]\n",
      " [0.71518937]]\n",
      "Biases:  0\n"
     ]
    }
   ],
   "source": [
    "dim = 2\n",
    "w, b = initialize_weights(dim)\n",
    "\n",
    "print(\"Weights: \",w)\n",
    "print(\"Biases: \", b)"
   ]
  },
  {
   "cell_type": "code",
   "execution_count": 37,
   "metadata": {},
   "outputs": [],
   "source": [
    "x = [1,2,3]"
   ]
  },
  {
   "cell_type": "code",
   "execution_count": 38,
   "metadata": {},
   "outputs": [],
   "source": [
    "x_log = np.log(x)"
   ]
  },
  {
   "cell_type": "code",
   "execution_count": 39,
   "metadata": {},
   "outputs": [
    {
     "name": "stdout",
     "output_type": "stream",
     "text": [
      "[[ 70 100]\n",
      " [150 220]]\n"
     ]
    }
   ],
   "source": [
    "a = np.array([[1,2],[3,4]]) \n",
    "b = np.array([[10,20],[30,40]]) \n",
    "\n",
    "c = np.dot(a,b)\n",
    "print(c)"
   ]
  },
  {
   "cell_type": "code",
   "execution_count": 40,
   "metadata": {},
   "outputs": [],
   "source": [
    "ones_array = np.ones(shape=(4,4))"
   ]
  },
  {
   "cell_type": "code",
   "execution_count": 41,
   "metadata": {},
   "outputs": [],
   "source": [
    "sum_of_ones_array = np.sum(ones_array)"
   ]
  },
  {
   "cell_type": "code",
   "execution_count": 42,
   "metadata": {},
   "outputs": [],
   "source": [
    "def forward_prop(w, b, X, Y):\n",
    "\n",
    "    # calculate activations\n",
    "    z = np.dot(w.T, X) + b\n",
    "    A = sigmoid(z)\n",
    "\n",
    "    # calculate cost\n",
    "    m = X.shape[1]\n",
    "    cost = (-1/m) * np.sum(Y * np.log(A) + (1-Y) * (np.log(1-A)))\n",
    "    cost = np.squeeze(cost)\n",
    "\n",
    "    return A, cost"
   ]
  },
  {
   "cell_type": "code",
   "execution_count": 43,
   "metadata": {},
   "outputs": [],
   "source": [
    "def back_prop(X, A, Y):\n",
    "\n",
    "    # calculate gradients for w,b\n",
    "    m = X.shape[1]\n",
    "    dw = (1/m) * np.dot(X, (A-Y).T)\n",
    "    db = (1/m) * np.sum(A-Y)\n",
    "\n",
    "    grads = {'dw': dw, 'db': db}\n",
    "\n",
    "    return grads"
   ]
  },
  {
   "cell_type": "code",
   "execution_count": 44,
   "metadata": {},
   "outputs": [],
   "source": [
    "def propagate(w, b, X, Y):\n",
    "\n",
    "    #Forward propagation\n",
    "    A, cost = forward_prop(w, b, X, Y)\n",
    "\n",
    "    #Backward propagation\n",
    "    grads = back_prop(X, A, Y)\n",
    "\n",
    "    return grads, cost"
   ]
  },
  {
   "cell_type": "code",
   "execution_count": 45,
   "metadata": {},
   "outputs": [],
   "source": [
    "w, b, X, Y = np.array([[1], [2]]), 2, np.array([[1,2], [3,4]]), np.array([[1, 0]])\n",
    "grads, cost = propagate(w, b, X, Y)"
   ]
  },
  {
   "cell_type": "code",
   "execution_count": 46,
   "metadata": {},
   "outputs": [],
   "source": [
    "def predict(w, b, X):\n",
    "    m = X.shape[1]\n",
    "    Y_prediction = np.zeros((1, m))\n",
    "    w = w.reshape(X.shape[0], 1)\n",
    "\n",
    "    #Compute probability vector\n",
    "    A = sigmoid(np.dot(w.T, X) + b)\n",
    "\n",
    "    for i in range(A.shape[1]):\n",
    "        Y_prediction[0, i] = 1 if A[0, i] > 0.5 else 0\n",
    "\n",
    "    return Y_prediction"
   ]
  },
  {
   "cell_type": "code",
   "execution_count": 47,
   "metadata": {},
   "outputs": [
    {
     "name": "stdout",
     "output_type": "stream",
     "text": [
      "y_actual : [1 1 1 0 1]\n",
      "y_predicted : [1 0 0 0 1]\n"
     ]
    }
   ],
   "source": [
    "y_actual = np.array([1,1,1,0,1])\n",
    "print(\"y_actual :\", y_actual )\n",
    "\n",
    "y_predicted = np.array([1,0,0,0,1])\n",
    "print(\"y_predicted :\", y_predicted )"
   ]
  },
  {
   "cell_type": "code",
   "execution_count": 48,
   "metadata": {},
   "outputs": [],
   "source": [
    "c = np.abs(y_actual - y_predicted)"
   ]
  },
  {
   "cell_type": "code",
   "execution_count": 49,
   "metadata": {},
   "outputs": [],
   "source": [
    "c_mean = np.mean(c)"
   ]
  },
  {
   "cell_type": "code",
   "execution_count": 50,
   "metadata": {},
   "outputs": [
    {
     "data": {
      "text/plain": [
       "60.0"
      ]
     },
     "execution_count": 50,
     "metadata": {},
     "output_type": "execute_result"
    }
   ],
   "source": [
    "accuracy = 100 - (c_mean * 100)\n",
    "accuracy"
   ]
  },
  {
   "cell_type": "code",
   "execution_count": 51,
   "metadata": {},
   "outputs": [],
   "source": [
    "def get_accuracies(Y_predicted, Y_actual):\n",
    "    abs_diff = np.abs(Y_predicted - Y_actual)\n",
    "    accuracy = 100 - np.mean(abs_diff) * 100\n",
    "    return accuracy"
   ]
  },
  {
   "cell_type": "code",
   "execution_count": 58,
   "metadata": {},
   "outputs": [],
   "source": [
    "def optimize(w, b, X, Y, X_val, Y_val, num_iterations, learning_rate):\n",
    "    prev_train_acc=0\n",
    "    prev_val_acc=0\n",
    "    costs=[]\n",
    "    epoch=0\n",
    "    final_w = w\n",
    "    final_b = b\n",
    "\n",
    "    for i in range(num_iterations):\n",
    "\n",
    "        #Cost and gradient calculation\n",
    "        grads, cost = propagate(w, b, X, Y)\n",
    "        costs.append(cost)\n",
    "        #Get derivatives\n",
    "        dw = grads['dw']\n",
    "        db = grads['db']\n",
    "\n",
    "        #Update rule\n",
    "        w = w - learning_rate * dw\n",
    "        b = b - learning_rate * db\n",
    "\n",
    "        # Predict labels for train and validation sets        \n",
    "        Y_prediction_train = predict(w, b, X)\n",
    "        Y_prediction_val = predict(w, b, X_val)\n",
    "\n",
    "        # Get accuracies for the train and validation predictions\n",
    "        train_acc = get_accuracies(Y_prediction_train, Y)\n",
    "        val_acc = get_accuracies(Y_prediction_val, Y_val)\n",
    "\n",
    "        if val_acc > prev_val_acc and train_acc>=val_acc:\n",
    "            print(\"*****************************\")\n",
    "            print(\"Epoch - {} - train accuracy: {} %\".format(i,train_acc))\n",
    "            print(\"Epoch - {} - val accuracy: {} %\".format(i,val_acc))\n",
    "            print(\"!!!!!!!!!!!!!!!!!!!!!!!!!!!!!!!\")\n",
    "            prev_train_acc = train_acc\n",
    "            prev_val_acc = val_acc\n",
    "            epoch = i\n",
    "            final_w = w\n",
    "            final_b = b\n",
    "\n",
    "    params = {'w': w, 'b': b}\n",
    "    grads = {'dw': dw, 'db': db}\n",
    "\n",
    "    optimal_values = {\n",
    "        'costs': costs,\n",
    "        'final w':final_w,\n",
    "        'final b':final_b,\n",
    "        'epoch':epoch,\n",
    "        'Train accuracy':prev_train_acc,\n",
    "        'Validation accuracy': prev_val_acc,\n",
    "        'Y_prediction_val': Y_prediction_val,\n",
    "         'Y_prediction_train': Y_prediction_train,\n",
    "         'params':params,\n",
    "         'grads':grads,\n",
    "    }\n",
    "\n",
    "    return optimal_values"
   ]
  },
  {
   "cell_type": "code",
   "execution_count": 59,
   "metadata": {},
   "outputs": [],
   "source": [
    "def model(X_train, Y_train, X_val, Y_val, num_iterations=2000, learning_rate=[0.5]):\n",
    "    prev_train_acc=0\n",
    "    prev_val_acc=0\n",
    "\n",
    "    # Initialize weights and bias\n",
    "    w, b = initialize_weights(X_train.shape[0])\n",
    "\n",
    "    best_values = {\n",
    "        'final w':w,\n",
    "        'final b':b,\n",
    "        'Train accuracy':prev_train_acc,\n",
    "        'Validation accuracy': prev_val_acc,\n",
    "     }\n",
    "\n",
    "\n",
    "    for lr in learning_rate:\n",
    "        print((\"-\"*30 + \"learning_rate:{}\"+\"-\"*30).format(lr))\n",
    "       # Initialize weights and bias\n",
    "        w, b = initialize_weights(X_train.shape[0])\n",
    "\n",
    "\n",
    "        # Optimization\n",
    "        lr_optimal_values = optimize(w, b, X_train, Y_train, X_val, Y_val, num_iterations, lr)\n",
    "        if lr_optimal_values['Validation accuracy']>prev_val_acc:\n",
    "            prev_val_acc = lr_optimal_values['Validation accuracy']\n",
    "            prev_train_acc = lr_optimal_values['Train accuracy']\n",
    "            final_lr = lr\n",
    "            final_w = lr_optimal_values['final w']\n",
    "            final_b = lr_optimal_values['final b']\n",
    "            final_epoch = lr_optimal_values['epoch']\n",
    "            final_Y_prediction_val = lr_optimal_values['Y_prediction_val']\n",
    "            final_Y_prediction_train = lr_optimal_values['Y_prediction_train']\n",
    "\n",
    "    best_values['Train accuracy'] = prev_train_acc\n",
    "    best_values['Validation accuracy'] = prev_val_acc\n",
    "    best_values['final_lr'] = final_lr\n",
    "    best_values['final w'] = final_w\n",
    "    best_values['final b'] = final_b\n",
    "    best_values['epoch'] = final_epoch\n",
    "    best_values['Y_prediction_val'] = final_Y_prediction_val\n",
    "    best_values['Y_prediction_train'] = final_Y_prediction_train\n",
    "\n",
    "    return best_values"
   ]
  },
  {
   "cell_type": "code",
   "execution_count": 60,
   "metadata": {},
   "outputs": [
    {
     "name": "stdout",
     "output_type": "stream",
     "text": [
      "------------------------------learning_rate:0.1------------------------------\n",
      "*****************************\n",
      "Epoch - 18 - train accuracy: 62.67942583732057 %\n",
      "Epoch - 18 - val accuracy: 36.0 %\n",
      "!!!!!!!!!!!!!!!!!!!!!!!!!!!!!!!\n",
      "*****************************\n",
      "Epoch - 20 - train accuracy: 62.20095693779905 %\n",
      "Epoch - 20 - val accuracy: 48.0 %\n",
      "!!!!!!!!!!!!!!!!!!!!!!!!!!!!!!!\n",
      "*****************************\n",
      "Epoch - 22 - train accuracy: 62.20095693779905 %\n",
      "Epoch - 22 - val accuracy: 60.0 %\n",
      "!!!!!!!!!!!!!!!!!!!!!!!!!!!!!!!\n",
      "*****************************\n",
      "Epoch - 63 - train accuracy: 74.16267942583733 %\n",
      "Epoch - 63 - val accuracy: 72.0 %\n",
      "!!!!!!!!!!!!!!!!!!!!!!!!!!!!!!!\n",
      "*****************************\n",
      "Epoch - 68 - train accuracy: 76.55502392344498 %\n",
      "Epoch - 68 - val accuracy: 76.0 %\n",
      "!!!!!!!!!!!!!!!!!!!!!!!!!!!!!!!\n"
     ]
    },
    {
     "name": "stderr",
     "output_type": "stream",
     "text": [
      "/usr/local/anaconda/envs/tensorflow2/lib/python3.6/site-packages/ipykernel_launcher.py:9: RuntimeWarning: divide by zero encountered in log\n",
      "  if __name__ == '__main__':\n",
      "/usr/local/anaconda/envs/tensorflow2/lib/python3.6/site-packages/ipykernel_launcher.py:9: RuntimeWarning: invalid value encountered in multiply\n",
      "  if __name__ == '__main__':\n"
     ]
    },
    {
     "name": "stdout",
     "output_type": "stream",
     "text": [
      "*****************************\n",
      "Epoch - 156 - train accuracy: 87.5598086124402 %\n",
      "Epoch - 156 - val accuracy: 80.0 %\n",
      "!!!!!!!!!!!!!!!!!!!!!!!!!!!!!!!\n",
      "*****************************\n",
      "Epoch - 194 - train accuracy: 84.68899521531101 %\n",
      "Epoch - 194 - val accuracy: 84.0 %\n",
      "!!!!!!!!!!!!!!!!!!!!!!!!!!!!!!!\n",
      "------------------------------learning_rate:0.0001------------------------------\n",
      "------------------------------learning_rate:0.001------------------------------\n",
      "------------------------------learning_rate:0.005------------------------------\n",
      "*****************************\n",
      "Epoch - 839 - train accuracy: 72.2488038277512 %\n",
      "Epoch - 839 - val accuracy: 72.0 %\n",
      "!!!!!!!!!!!!!!!!!!!!!!!!!!!!!!!\n",
      "*****************************\n",
      "Epoch - 1356 - train accuracy: 81.33971291866028 %\n",
      "Epoch - 1356 - val accuracy: 80.0 %\n",
      "!!!!!!!!!!!!!!!!!!!!!!!!!!!!!!!\n"
     ]
    }
   ],
   "source": [
    "best_values = model(train_set_x, train_set_y_orig, validation_set_x, validation_y, num_iterations = 2000, learning_rate = [0.1,0.0001,0.001,0.005])"
   ]
  },
  {
   "cell_type": "code",
   "execution_count": 216,
   "metadata": {},
   "outputs": [
    {
     "ename": "ValueError",
     "evalue": "cannot reshape array of size 12288 into shape (25,1)",
     "output_type": "error",
     "traceback": [
      "\u001b[0;31m---------------------------------------------------------------------------\u001b[0m",
      "\u001b[0;31mValueError\u001b[0m                                Traceback (most recent call last)",
      "\u001b[0;32m<ipython-input-216-95e0532bdc81>\u001b[0m in \u001b[0;36m<module>\u001b[0;34m\u001b[0m\n\u001b[0;32m----> 1\u001b[0;31m \u001b[0mY_prediction_test\u001b[0m \u001b[0;34m=\u001b[0m \u001b[0mpredict\u001b[0m\u001b[0;34m(\u001b[0m\u001b[0mbest_values\u001b[0m\u001b[0;34m[\u001b[0m\u001b[0;34m'final w'\u001b[0m\u001b[0;34m]\u001b[0m\u001b[0;34m,\u001b[0m \u001b[0mbest_values\u001b[0m\u001b[0;34m[\u001b[0m\u001b[0;34m'final b'\u001b[0m\u001b[0;34m]\u001b[0m\u001b[0;34m,\u001b[0m \u001b[0mtest_set_x\u001b[0m\u001b[0;34m)\u001b[0m\u001b[0;34m\u001b[0m\u001b[0;34m\u001b[0m\u001b[0m\n\u001b[0m\u001b[1;32m      2\u001b[0m \u001b[0;34m\u001b[0m\u001b[0m\n\u001b[1;32m      3\u001b[0m \u001b[0mtest_acc\u001b[0m \u001b[0;34m=\u001b[0m \u001b[0mget_accuracies\u001b[0m\u001b[0;34m(\u001b[0m\u001b[0mtest_set_y\u001b[0m\u001b[0;34m,\u001b[0m \u001b[0mY_prediction_test\u001b[0m\u001b[0;34m)\u001b[0m\u001b[0;34m\u001b[0m\u001b[0;34m\u001b[0m\u001b[0m\n\u001b[1;32m      4\u001b[0m \u001b[0mprint\u001b[0m\u001b[0;34m(\u001b[0m\u001b[0;34m\"Test accuracy is: \"\u001b[0m\u001b[0;34m,\u001b[0m\u001b[0mtest_acc\u001b[0m\u001b[0;34m)\u001b[0m\u001b[0;34m\u001b[0m\u001b[0;34m\u001b[0m\u001b[0m\n\u001b[1;32m      5\u001b[0m \u001b[0;34m\u001b[0m\u001b[0m\n",
      "\u001b[0;32m<ipython-input-206-5105c772c817>\u001b[0m in \u001b[0;36mpredict\u001b[0;34m(w, b, X)\u001b[0m\n\u001b[1;32m      2\u001b[0m     \u001b[0mm\u001b[0m \u001b[0;34m=\u001b[0m \u001b[0mX\u001b[0m\u001b[0;34m.\u001b[0m\u001b[0mshape\u001b[0m\u001b[0;34m[\u001b[0m\u001b[0;36m1\u001b[0m\u001b[0;34m]\u001b[0m\u001b[0;34m\u001b[0m\u001b[0;34m\u001b[0m\u001b[0m\n\u001b[1;32m      3\u001b[0m     \u001b[0mY_prediction\u001b[0m \u001b[0;34m=\u001b[0m \u001b[0mnp\u001b[0m\u001b[0;34m.\u001b[0m\u001b[0mzeros\u001b[0m\u001b[0;34m(\u001b[0m\u001b[0;34m(\u001b[0m\u001b[0;36m1\u001b[0m\u001b[0;34m,\u001b[0m \u001b[0mm\u001b[0m\u001b[0;34m)\u001b[0m\u001b[0;34m)\u001b[0m\u001b[0;34m\u001b[0m\u001b[0;34m\u001b[0m\u001b[0m\n\u001b[0;32m----> 4\u001b[0;31m     \u001b[0mw\u001b[0m \u001b[0;34m=\u001b[0m \u001b[0mw\u001b[0m\u001b[0;34m.\u001b[0m\u001b[0mreshape\u001b[0m\u001b[0;34m(\u001b[0m\u001b[0mX\u001b[0m\u001b[0;34m.\u001b[0m\u001b[0mshape\u001b[0m\u001b[0;34m[\u001b[0m\u001b[0;36m0\u001b[0m\u001b[0;34m]\u001b[0m\u001b[0;34m,\u001b[0m \u001b[0;36m1\u001b[0m\u001b[0;34m)\u001b[0m\u001b[0;34m\u001b[0m\u001b[0;34m\u001b[0m\u001b[0m\n\u001b[0m\u001b[1;32m      5\u001b[0m \u001b[0;34m\u001b[0m\u001b[0m\n\u001b[1;32m      6\u001b[0m     \u001b[0;31m#Compute probability vector\u001b[0m\u001b[0;34m\u001b[0m\u001b[0;34m\u001b[0m\u001b[0;34m\u001b[0m\u001b[0m\n",
      "\u001b[0;31mValueError\u001b[0m: cannot reshape array of size 12288 into shape (25,1)"
     ]
    }
   ],
   "source": [
    "Y_prediction_test = predict(best_values['final w'], best_values['final b'], test_set_x)\n",
    "\n",
    "test_acc = get_accuracies(test_set_y, Y_prediction_test)\n",
    "print(\"Test accuracy is: \",test_acc)\n",
    "\n",
    "print(\"Final best model:\")\n",
    "print(\"For Learning rate:\" ,best_values['final_lr'], \", Epoch - \",best_values['epoch'])\n",
    "print(\"Train accuracy: \", best_values['Train accuracy'])\n",
    "print(\"Validation accuracy: \",best_values['Validation accuracy'])\n",
    "print(\"Test accuracy is: \",test_acc)"
   ]
  },
  {
   "cell_type": "code",
   "execution_count": null,
   "metadata": {},
   "outputs": [],
   "source": []
  }
 ],
 "metadata": {
  "kernelspec": {
   "display_name": "tensorflow2",
   "language": "python",
   "name": "tensorflow2"
  },
  "language_info": {
   "codemirror_mode": {
    "name": "ipython",
    "version": 3
   },
   "file_extension": ".py",
   "mimetype": "text/x-python",
   "name": "python",
   "nbconvert_exporter": "python",
   "pygments_lexer": "ipython3",
   "version": "3.6.8"
  },
  "toc": {
   "base_numbering": 1,
   "nav_menu": {},
   "number_sections": true,
   "sideBar": true,
   "skip_h1_title": false,
   "title_cell": "Table of Contents",
   "title_sidebar": "Contents",
   "toc_cell": false,
   "toc_position": {},
   "toc_section_display": true,
   "toc_window_display": false
  }
 },
 "nbformat": 4,
 "nbformat_minor": 2
}
